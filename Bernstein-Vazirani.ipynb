{
 "cells": [
  {
   "cell_type": "markdown",
   "metadata": {},
   "source": [
    "# This notebook is to demonstrate the advantage of quantum computer in guessing a bit string by utilizing the superposition principle. This implementation follows the nice video by Qiskit https://youtu.be/sqJIpHYl7oo.\n"
   ]
  },
  {
   "cell_type": "code",
   "execution_count": 69,
   "metadata": {},
   "outputs": [
    {
     "name": "stderr",
     "output_type": "stream",
     "text": [
      "/anaconda3/envs/qiskitenv/lib/python3.7/site-packages/IPython/core/display.py:689: UserWarning: Consider using IPython.display.IFrame instead\n",
      "  warnings.warn(\"Consider using IPython.display.IFrame instead\")\n"
     ]
    },
    {
     "data": {
      "text/html": [
       "<iframe width=\"560\" height=\"315\" src=\"https://www.youtube.com/embed/sqJIpHYl7oo\" frameborder=\"0\" allow=\"accelerometer; autoplay; encrypted-media; gyroscope; picture-in-picture\" allowfullscreen></iframe>"
      ],
      "text/plain": [
       "<IPython.core.display.HTML object>"
      ]
     },
     "execution_count": 69,
     "metadata": {},
     "output_type": "execute_result"
    }
   ],
   "source": [
    "from IPython.display import HTML\n",
    "HTML('<iframe width=\"560\" height=\"315\" src=\"https://www.youtube.com/embed/sqJIpHYl7oo\" frameborder=\"0\" allow=\"accelerometer; autoplay; encrypted-media; gyroscope; picture-in-picture\" allowfullscreen></iframe>')"
   ]
  },
  {
   "cell_type": "code",
   "execution_count": 2,
   "metadata": {},
   "outputs": [],
   "source": [
    "from qiskit import *\n",
    "from qiskit.tools.visualization import plot_histogram"
   ]
  },
  {
   "cell_type": "code",
   "execution_count": 80,
   "metadata": {},
   "outputs": [
    {
     "name": "stdout",
     "output_type": "stream",
     "text": [
      "Enter a bitstring\n",
      "1000010101011\n"
     ]
    }
   ],
   "source": [
    "# This is the input string to be found by the BV algorithm\n",
    "print('Enter a bitstring')\n",
    "secretstr = input()"
   ]
  },
  {
   "cell_type": "code",
   "execution_count": 81,
   "metadata": {},
   "outputs": [],
   "source": [
    "def applycx(secretstr, cir):\n",
    "    for i, s in enumerate(reversed(secretstr)):\n",
    "        if s=='1':\n",
    "            cir.cx(cir.qregs[0][i], cir.qregs[1])\n",
    "    return cir\n",
    "    "
   ]
  },
  {
   "cell_type": "code",
   "execution_count": 82,
   "metadata": {},
   "outputs": [
    {
     "name": "stdout",
     "output_type": "stream",
     "text": [
      "the answer is 1000010101011\n",
      "the secretstr is solved!\n"
     ]
    }
   ],
   "source": [
    "N=len(secretstr)\n",
    "q=QuantumRegister(N,'work')\n",
    "aq=QuantumRegister(1,'anc')\n",
    "c=ClassicalRegister(N,'c')\n",
    "cir=QuantumCircuit(q,c)\n",
    "cir.add_register(aq)\n",
    "\n",
    "cir.h(q)\n",
    "cir.x(aq)\n",
    "cir.h(aq)\n",
    "cir.barrier()\n",
    "applycx(secretstr, cir)\n",
    "cir.barrier()\n",
    "cir.h(q)\n",
    "cir.measure(q,c)\n",
    "result=execute(cir, backend=Aer.get_backend('qasm_simulator'), shots=1).result()\n",
    "count=result.get_counts()\n",
    "\n",
    "for k in count.keys():\n",
    "    print('the answer is {}'.format(k))\n",
    "    if int(k,2)==int(secretstr,2):\n",
    "        print('the secretstr is solved!')\n",
    "    else:\n",
    "        print('Oops, it is not right.')"
   ]
  },
  {
   "cell_type": "markdown",
   "metadata": {},
   "source": [
    "The principle behind Berstein-Vazirani algorithm is the same as Deutsch algorithm. Prepare all of the initail state in $|+\\rangle$ and the ancilla bit in $|-\\rangle$. There is a sign backward propagation to the source bit when cx is applied to the ancilla bit. Thus, the source bits reverse to $|-\\rangle$. Applying the Hadamard gate to each qubit reverses $|+/-\\rangle$ to the computational basis $|0/1\\rangle$, allowing for one-shot measurement for determination.       \n",
    "This algorithm shows the advantage of quantum computer over classical ones. Classically, such problem needs at least $n$ trials to find out the secret string, where $n$ is the length of the bit string. In contrast, no matter how long the bit string is, the secret string can be solved in ONE shot."
   ]
  },
  {
   "cell_type": "code",
   "execution_count": null,
   "metadata": {},
   "outputs": [],
   "source": []
  }
 ],
 "metadata": {
  "kernelspec": {
   "display_name": "Python 3",
   "language": "python",
   "name": "python3"
  },
  "language_info": {
   "codemirror_mode": {
    "name": "ipython",
    "version": 3
   },
   "file_extension": ".py",
   "mimetype": "text/x-python",
   "name": "python",
   "nbconvert_exporter": "python",
   "pygments_lexer": "ipython3",
   "version": "3.7.3"
  }
 },
 "nbformat": 4,
 "nbformat_minor": 2
}
