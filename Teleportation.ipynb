{
 "cells": [
  {
   "cell_type": "markdown",
   "metadata": {},
   "source": [
    "# This notebook demonstrates the teleportation: transfering the quantum information carried by one qubit to another. The derivation follows the famous textbook \"Principles of Quantum Computation and Information.\"   "
   ]
  },
  {
   "cell_type": "code",
   "execution_count": 43,
   "metadata": {},
   "outputs": [],
   "source": [
    "from qiskit import *\n",
    "from math import pi"
   ]
  },
  {
   "cell_type": "code",
   "execution_count": 2,
   "metadata": {},
   "outputs": [],
   "source": [
    "IBMQ.load_accounts()"
   ]
  },
  {
   "cell_type": "code",
   "execution_count": 3,
   "metadata": {},
   "outputs": [
    {
     "data": {
      "text/plain": [
       "[<IBMQSimulator('ibmq_qasm_simulator') from IBMQ(ibm-q, open, main)>,\n",
       " <IBMQBackend('ibmqx2') from IBMQ(ibm-q, open, main)>,\n",
       " <IBMQBackend('ibmq_16_melbourne') from IBMQ(ibm-q, open, main)>,\n",
       " <IBMQBackend('ibmq_vigo') from IBMQ(ibm-q, open, main)>,\n",
       " <IBMQBackend('ibmq_ourense') from IBMQ(ibm-q, open, main)>]"
      ]
     },
     "execution_count": 3,
     "metadata": {},
     "output_type": "execute_result"
    }
   ],
   "source": [
    "IBMQ.backends()"
   ]
  },
  {
   "cell_type": "code",
   "execution_count": 122,
   "metadata": {},
   "outputs": [],
   "source": [
    "# declare a circuit\n",
    "q=QuantumRegister(3,'q')\n",
    "c=ClassicalRegister(3,'c')\n",
    "cir=QuantumCircuit(q,c)"
   ]
  },
  {
   "cell_type": "markdown",
   "metadata": {},
   "source": [
    "Below, I will perform the gate operations for teleportation. The statevector of qubit 0 will be transferred to qubit 2. This is achievable when qubit 1 and qubit 2 are entangled.      \n",
    "Step1: Encode a state in q0, here let the statevector be 0+1.     \n",
    "Step2: Create an entangled state (01+10) on q1 and q2.      \n",
    "Step3: Transform q0 and q1 to computational basis.       \n",
    "Step4: Perform measurement on q0 and q1.       \n",
    "Step5: According to the measurement outcome from Step4, perform the corresponding gates on q2.        \n",
    "In constructing circuit, I will add a barrier after each step for clarity. "
   ]
  },
  {
   "cell_type": "code",
   "execution_count": 123,
   "metadata": {},
   "outputs": [
    {
     "data": {
      "text/plain": [
       "<qiskit.circuit.measure.Measure at 0x128e37898>"
      ]
     },
     "execution_count": 123,
     "metadata": {},
     "output_type": "execute_result"
    }
   ],
   "source": [
    "#step1\n",
    "cir.h(q[0])\n",
    "cir.barrier()\n",
    "#step2\n",
    "cir.h(q[1])\n",
    "cir.x(q[2])\n",
    "cir.cx(q[1],q[2])\n",
    "cir.barrier()\n",
    "#step3\n",
    "cir.cx(q[0],q[1])\n",
    "cir.h(q[0])\n",
    "cir.barrier()\n",
    "#step4\n",
    "cir.measure(q[0],c[0])\n",
    "cir.measure(q[1],c[1])\n",
    "cir.barrier()\n",
    "#step5\n",
    "# if q0's outcome is 1, that means q2 is in (0-1) state, such that we'd convert back to (0+1)\n",
    "cir.cz(q[0],q[2])\n",
    "cir.barrier()\n",
    "# transform the (0+1) state to the computational basis\n",
    "cir.h(q[2])\n",
    "cir.measure(q[2],c[2])"
   ]
  },
  {
   "cell_type": "code",
   "execution_count": 124,
   "metadata": {},
   "outputs": [
    {
     "data": {
      "image/png": "[encoded data removed]",
      "text/plain": [
       "<Figure size 1264.2x379.26 with 1 Axes>"
      ]
     },
     "execution_count": 124,
     "metadata": {},
     "output_type": "execute_result"
    }
   ],
   "source": [
    "cir.draw(output='mpl')"
   ]
  },
  {
   "cell_type": "code",
   "execution_count": 125,
   "metadata": {},
   "outputs": [],
   "source": [
    "jobs=execute(cir,backend=Aer.get_backend('qasm_simulator'),shots=1024)"
   ]
  },
  {
   "cell_type": "code",
   "execution_count": 126,
   "metadata": {},
   "outputs": [
    {
     "data": {
      "text/plain": [
       "{'000': 266, '011': 252, '001': 252, '010': 254}"
      ]
     },
     "execution_count": 126,
     "metadata": {},
     "output_type": "execute_result"
    }
   ],
   "source": [
    "jobs.result().get_counts()"
   ]
  },
  {
   "cell_type": "markdown",
   "metadata": {},
   "source": [
    "It is shown from the outcome that q2 is always '0', i.e. before the H gate, q2 is in the state (0+1). This is the initial state of q0. After teleportation, the initial statevector of q0 is now encoded in q2. "
   ]
  },
  {
   "cell_type": "code",
   "execution_count": null,
   "metadata": {},
   "outputs": [],
   "source": []
  }
 ],
 "metadata": {
  "kernelspec": {
   "display_name": "Python 3",
   "language": "python",
   "name": "python3"
  },
  "language_info": {
   "codemirror_mode": {
    "name": "ipython",
    "version": 3
   },
   "file_extension": ".py",
   "mimetype": "text/x-python",
   "name": "python",
   "nbconvert_exporter": "python",
   "pygments_lexer": "ipython3",
   "version": "3.7.3"
  }
 },
 "nbformat": 4,
 "nbformat_minor": 2
}
