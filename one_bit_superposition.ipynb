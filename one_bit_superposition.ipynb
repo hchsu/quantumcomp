{
 "cells": [
  {
   "cell_type": "code",
   "execution_count": 1,
   "metadata": {},
   "outputs": [],
   "source": [
    "import qiskit\n",
    "from qiskit import QuantumRegister, ClassicalRegister, QuantumCircuit, Aer, execute\n",
    "from qiskit.tools.monitor import job_monitor, backend_monitor, backend_overview\n",
    "from qiskit.tools.visualization import plot_histogram\n",
    "from qiskit import IBMQ\n",
    "import numpy as np\n"
   ]
  },
  {
   "cell_type": "markdown",
   "metadata": {},
   "source": [
    "In qunautm world, the state of a particle is a superposition (linear combination) of states.  The coefficients can be complex and expressed in terms of $e^{i2\\pi\\phi}$, where $\\phi$ is called the phase. The square of the coefficient gives the probability of the particle collapsed to each state under measurement.  The sum of squared coefficient must equal to 1. Taking a two-level system as an example, the state of a particle is the superposition of $0$ and $1$.  \n",
    "$|\\Psi\\rangle=\\alpha |0\\rangle +\\beta |1\\rangle$  \n",
    "$|\\alpha|^2+|\\beta|^2=1$"
   ]
  },
  {
   "cell_type": "code",
   "execution_count": 3,
   "metadata": {},
   "outputs": [],
   "source": [
    "def create_superposition(phase):\n",
    "# phase =0: create 0+1 superposition\n",
    "# phase =1: create 0-1 superposition\n",
    "# phase =0~1: create 0+ exp(i*2*pi*phase)1 superposition\n",
    "    q=QuantumRegister(1)\n",
    "    c=ClassicalRegister(1)\n",
    "    cir=QuantumCircuit(q,c)\n",
    "    if phase==1:\n",
    "        cir.x(q)\n",
    "    elif not phase ==0:\n",
    "        cir.u1(2*np.pi*phase,q)\n",
    "    cir.h(q)\n",
    "    cir.measure(q,c)\n",
    "    return cir"
   ]
  },
  {
   "cell_type": "code",
   "execution_count": 4,
   "metadata": {},
   "outputs": [
    {
     "data": {
      "text/html": [
       "<pre style=\"word-wrap: normal;white-space: pre;line-height: 15px;\">         ┌────────────┐┌───┐┌─┐\n",
       "q0_0: |0>┤ U1(3.1416) ├┤ H ├┤M├\n",
       "         └────────────┘└───┘└╥┘\n",
       " c0_0: 0 ════════════════════╩═\n",
       "                               </pre>"
      ],
      "text/plain": [
       "<qiskit.tools.visualization._text.TextDrawing at 0x1267eb710>"
      ]
     },
     "execution_count": 4,
     "metadata": {},
     "output_type": "execute_result"
    }
   ],
   "source": [
    "cir=create_superposition(0.5)\n",
    "cir.draw()"
   ]
  },
  {
   "cell_type": "code",
   "execution_count": 5,
   "metadata": {},
   "outputs": [
    {
     "name": "stdout",
     "output_type": "stream",
     "text": [
      "{'1': 514, '0': 510}\n"
     ]
    }
   ],
   "source": [
    "# simulate on local classical computer\n",
    "job=execute(cir, backend=Aer.get_backend('qasm_simulator'), shots=1024)\n",
    "result=job.result()\n",
    "print(result.get_counts())"
   ]
  },
  {
   "cell_type": "markdown",
   "metadata": {},
   "source": [
    "No matter what phase chosen, the resultant state always has the same probability of getting 0 and 1. \n",
    "Measurement of the phase is not trivial. I will come to the derivation and explanation in a later jupyter notebook. For the readers who would like to take a glance on how to do it, I will take the phase=0.25 as an example. Others can skip the rest of this notebook and come back to this part later.\n",
    "We will use the binary form of the phase for the computation, $(0.25)_{10}=(0.01)_{2}$.  The number at the least significant bit is 1, while the most significant bit is 0.     \n",
    "Step1: Create a two bit circuit. Apply H to the first bit. The first bit is the control bit. The second bit is the superposition state which phase is to be measured.  \n",
    "Step2: Create the control-unitary gate which phase=0.25.   \n",
    "Step3: Apply the control-unitary gate on the two bit system 4 times. (Note that 4 is the inverse of $(0.01)_2$.)   \n",
    "Step4: Apply H gate on the first bit.   \n",
    "Step5: Apply measurement. The most probable state of the first bit should be 1. (If the number at the least significant bit is 0, then the most probable state would be 0. )   \n",
    "It is worth noting that the bit order used in qiskit is: the first created bit is on the right hand side and is also the least significant bit. In other words, the controlled bit in this example is written on the right hand side. \n"
   ]
  },
  {
   "cell_type": "code",
   "execution_count": 46,
   "metadata": {},
   "outputs": [],
   "source": [
    "def control_u(cir,phase,cbit,tbit):\n",
    "    cir.u1(-2*np.pi*phase,tbit)\n",
    "    cir.cx(cbit,tbit)\n",
    "    cir.u1(2*np.pi*phase, tbit)\n",
    "    cir.cx(cbit, tbit)\n",
    "    "
   ]
  },
  {
   "cell_type": "code",
   "execution_count": 44,
   "metadata": {},
   "outputs": [],
   "source": [
    "def measure_phase(phase):\n",
    "    q=QuantumRegister(2)\n",
    "    c=ClassicalRegister(2)\n",
    "    cir=QuantumCircuit(q,c)\n",
    "    cir.h(q[0])\n",
    "    cir.u1(2*np.pi*phase,q[1])\n",
    "    control_u(cir, phase, q[0], q[1])\n",
    "    control_u(cir, phase,q[0],q[1])\n",
    "    cir.h(q[0])\n",
    "    cir.measure(q[0],c[0])\n",
    "    return cir"
   ]
  },
  {
   "cell_type": "code",
   "execution_count": 56,
   "metadata": {},
   "outputs": [
    {
     "name": "stdout",
     "output_type": "stream",
     "text": [
      "{'01': 1024}\n"
     ]
    }
   ],
   "source": [
    "cir=measure_phase(0.25)\n",
    "job=execute(cir, backend=Aer.get_backend('qasm_simulator'), shots=1024)\n",
    "result=job.result()\n",
    "print(result.get_counts())"
   ]
  },
  {
   "cell_type": "code",
   "execution_count": null,
   "metadata": {},
   "outputs": [],
   "source": []
  },
  {
   "cell_type": "code",
   "execution_count": null,
   "metadata": {},
   "outputs": [],
   "source": []
  }
 ],
 "metadata": {
  "kernelspec": {
   "display_name": "Python 3",
   "language": "python",
   "name": "python3"
  },
  "language_info": {
   "codemirror_mode": {
    "name": "ipython",
    "version": 3
   },
   "file_extension": ".py",
   "mimetype": "text/x-python",
   "name": "python",
   "nbconvert_exporter": "python",
   "pygments_lexer": "ipython3",
   "version": "3.7.3"
  }
 },
 "nbformat": 4,
 "nbformat_minor": 2
}
