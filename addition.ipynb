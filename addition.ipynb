{
 "cells": [
  {
   "cell_type": "markdown",
   "metadata": {},
   "source": [
    "# In this jupyter notebook, I perform arrithmetic addition using quantum circuit model.   \n"
   ]
  },
  {
   "cell_type": "code",
   "execution_count": 2,
   "metadata": {},
   "outputs": [],
   "source": [
    "import qiskit\n",
    "from qiskit import QuantumCircuit, QuantumRegister, ClassicalRegister, execute, Aer\n",
    "from qiskit.tools.visualization import plot_histogram\n",
    "from qiskit.tools.monitor import job_monitor, backend_monitor, backend_overview\n",
    "from qiskit import IBMQ"
   ]
  },
  {
   "cell_type": "code",
   "execution_count": 342,
   "metadata": {},
   "outputs": [],
   "source": [
    "import matplotlib.pyplot as plt"
   ]
  },
  {
   "cell_type": "code",
   "execution_count": 3,
   "metadata": {},
   "outputs": [],
   "source": [
    "# The IBMQ token was saved earlier in the local machine.\n",
    "IBMQ.load_accounts()"
   ]
  },
  {
   "cell_type": "code",
   "execution_count": 3,
   "metadata": {},
   "outputs": [
    {
     "name": "stderr",
     "output_type": "stream",
     "text": [
      "/anaconda3/envs/qiskitenv/lib/python3.7/site-packages/qiskit/providers/ibmq/ibmqprovider.py:251: UserWarning: Credentials are already in use.\n",
      "  warnings.warn('Credentials are already in use.')\n"
     ]
    }
   ],
   "source": [
    "accountinfo=IBMQ.stored_accounts()\n",
    "accountinfo[0]['token']\n",
    "#IBMQ.enable_account(accountinfo[0]['token'])"
   ]
  },
  {
   "cell_type": "code",
   "execution_count": 4,
   "metadata": {},
   "outputs": [
    {
     "data": {
      "text/plain": [
       "[<IBMQBackend('ibmqx4') from IBMQ()>,\n",
       " <IBMQBackend('ibmqx2') from IBMQ()>,\n",
       " <IBMQBackend('ibmq_16_melbourne') from IBMQ()>,\n",
       " <IBMQBackend('ibmq_qasm_simulator') from IBMQ()>]"
      ]
     },
     "execution_count": 4,
     "metadata": {},
     "output_type": "execute_result"
    }
   ],
   "source": [
    "IBMQ.backends()"
   ]
  },
  {
   "cell_type": "code",
   "execution_count": 83,
   "metadata": {},
   "outputs": [],
   "source": [
    " # recall how classical addition of two integers.\n",
    "def classical_add(x,y):\n",
    "    while (y!=0):\n",
    "        carry=(x&y)\n",
    "        x=x^y\n",
    "        y=carry<<1\n",
    "    return x"
   ]
  },
  {
   "cell_type": "code",
   "execution_count": 5,
   "metadata": {},
   "outputs": [],
   "source": [
    "# this circuit model calculates single bit addition\n",
    "def fulladd(int1=1, int2=1, cin=1):\n",
    "    q=QuantumRegister(4)\n",
    "    c=ClassicalRegister(2)\n",
    "    circuit=QuantumCircuit(q,c)\n",
    "    # prepare the init state\n",
    "    if int1: circuit.x(q[0])\n",
    "    if int2: circuit.x(q[1])\n",
    "    if cin: circuit.x(q[2])\n",
    "    \n",
    "    # apply gate\n",
    "    circuit.ccx(q[0],q[1],q[3])\n",
    "    circuit.cx(q[0],q[1])\n",
    "    circuit.ccx(q[1],q[2],q[3])\n",
    "    circuit.cx(q[1],q[2])\n",
    "    circuit.cx(q[0],q[1])\n",
    "    # measure\n",
    "    circuit.measure(q[2],c[0])\n",
    "    circuit.measure(q[3],c[1])\n",
    "    return circuit"
   ]
  },
  {
   "cell_type": "code",
   "execution_count": 6,
   "metadata": {},
   "outputs": [],
   "source": [
    "cir=fulladd(1,0,1)"
   ]
  },
  {
   "cell_type": "code",
   "execution_count": 7,
   "metadata": {},
   "outputs": [
    {
     "data": {
      "text/html": [
       "<pre style=\"word-wrap: normal;white-space: pre;line-height: 15px;\">              ┌───┐                               \n",
       "q0_0: |0>─────┤ X ├──■────■────────────────────■──\n",
       "              └───┘  │  ┌─┴─┐                ┌─┴─┐\n",
       "q0_1: |0>────────────■──┤ X ├──■───────■─────┤ X ├\n",
       "         ┌───┐       │  └───┘  │     ┌─┴─┐┌─┐└───┘\n",
       "q0_2: |0>┤ X ├───────┼─────────■─────┤ X ├┤M├─────\n",
       "         └───┘     ┌─┴─┐     ┌─┴─┐┌─┐└───┘└╥┘     \n",
       "q0_3: |0>──────────┤ X ├─────┤ X ├┤M├──────╫──────\n",
       "                   └───┘     └───┘└╥┘      ║      \n",
       " c0_0: 0 ══════════════════════════╬═══════╩══════\n",
       "                                   ║              \n",
       " c0_1: 0 ══════════════════════════╩══════════════\n",
       "                                                  </pre>"
      ],
      "text/plain": [
       "<qiskit.tools.visualization._text.TextDrawing at 0x105fd9470>"
      ]
     },
     "execution_count": 7,
     "metadata": {},
     "output_type": "execute_result"
    }
   ],
   "source": [
    "cir.draw()"
   ]
  },
  {
   "cell_type": "code",
   "execution_count": 8,
   "metadata": {},
   "outputs": [
    {
     "name": "stdout",
     "output_type": "stream",
     "text": [
      "{'10': 1024}\n"
     ]
    },
    {
     "data": {
      "image/png": "[encoded data removed]",
      "text/plain": [
       "<Figure size 504x360 with 1 Axes>"
      ]
     },
     "execution_count": 8,
     "metadata": {},
     "output_type": "execute_result"
    }
   ],
   "source": [
    "# compute on simulator\n",
    "job = execute(cir, backend = Aer.get_backend('qasm_simulator'), shots=1024)\n",
    "result = job.result()\n",
    "print(result.get_counts())\n",
    "plot_histogram(result.get_counts())\n"
   ]
  },
  {
   "cell_type": "code",
   "execution_count": 10,
   "metadata": {},
   "outputs": [],
   "source": [
    "# Now let's compute on real quantum bit and see how the results different from the previous. \n",
    "job_q = execute(cir, backend=IBMQ.get_backend('ibmqx4'), shots=1024)\n"
   ]
  },
  {
   "cell_type": "code",
   "execution_count": 101,
   "metadata": {},
   "outputs": [
    {
     "data": {
      "application/vnd.jupyter.widget-view+json": {
       "model_id": "2de6db6181eb4ddb9944bd40bf497f68",
       "version_major": 2,
       "version_minor": 0
      },
      "text/plain": [
       "HTML(value=\"<p style='font-size:16px;'>Job Status: job has successfully run </p>\")"
      ]
     },
     "metadata": {},
     "output_type": "display_data"
    }
   ],
   "source": [
    "job_monitor(job_q)"
   ]
  },
  {
   "cell_type": "code",
   "execution_count": 102,
   "metadata": {},
   "outputs": [
    {
     "data": {
      "text/plain": [
       "{'01': 226, '10': 397, '11': 86, '00': 315}"
      ]
     },
     "execution_count": 102,
     "metadata": {},
     "output_type": "execute_result"
    }
   ],
   "source": [
    "result_q = job_q.result()\n",
    "result_q.get_counts()"
   ]
  },
  {
   "cell_type": "code",
   "execution_count": 103,
   "metadata": {},
   "outputs": [
    {
     "data": {
      "image/png": "[encoded data removed]",
      "text/plain": [
       "<Figure size 504x360 with 1 Axes>"
      ]
     },
     "execution_count": 103,
     "metadata": {},
     "output_type": "execute_result"
    }
   ],
   "source": [
    "plot_histogram(result_q.get_counts())"
   ]
  },
  {
   "cell_type": "markdown",
   "metadata": {},
   "source": [
    "## Remarks on the different results on the simulator and real qubit    \n",
    "In this example, the real qubits are entangled and not giving the expected result, i.e. $(11)_2 = (3)_{10}$, beuase the each bit is not isolated. To further understand the source of error, the relaxation and decoherence time can be studied with the noise model. More work can be done to understand the correction and control of error."
   ]
  },
  {
   "cell_type": "markdown",
   "metadata": {},
   "source": [
    "Despite the inaccuracy in qubits, let's stay with the simulator and generalize the single bit addition to multiple bits. "
   ]
  },
  {
   "cell_type": "code",
   "execution_count": 322,
   "metadata": {},
   "outputs": [
    {
     "name": "stdout",
     "output_type": "stream",
     "text": [
      "Enter the two integers to add, must < 255 \n",
      "2\n",
      "3\n",
      "The two ints are 2 and 3 \n"
     ]
    }
   ],
   "source": [
    "print('Enter the two integers to add, must < 255 ')\n",
    "input1 = input()\n",
    "input2=input()\n",
    "print('The two ints are {} and {} '.format(input1, input2))\n",
    "input1=int(input1)\n",
    "input2=int(input2)\n"
   ]
  },
  {
   "cell_type": "code",
   "execution_count": 323,
   "metadata": {},
   "outputs": [],
   "source": [
    "# define qunatum register that stores int1, int2 and carry\n",
    "bitstring1=bin(input1)[2:]\n",
    "bitstring2=bin(input2)[2:]\n",
    "maxbitlen=max(len(bitstring1), len(bitstring2))\n",
    "int1=QuantumRegister(maxbitlen)\n",
    "int2=QuantumRegister(maxbitlen)\n",
    "carry=QuantumRegister(maxbitlen+1)\n",
    "s=QuantumRegister(maxbitlen+1)\n",
    "c_carry=ClassicalRegister(maxbitlen+1)\n",
    "c_s=ClassicalRegister(maxbitlen+1)\n",
    "cir=QuantumCircuit(int1, int2, carry,c_carry,s,c_s)"
   ]
  },
  {
   "cell_type": "code",
   "execution_count": 324,
   "metadata": {},
   "outputs": [
    {
     "data": {
      "text/plain": [
       "<qiskit.circuit.instructionset.InstructionSet at 0x1286f1ba8>"
      ]
     },
     "execution_count": 324,
     "metadata": {},
     "output_type": "execute_result"
    }
   ],
   "source": [
    "#assign values to int1, int2 qubit\n",
    "for i in range(len(bitstring1)):\n",
    "    if int(bitstring1[::-1][i])==1:\n",
    "        cir.x(int1[i])\n",
    "\n",
    "for i in range(len(bitstring2)):\n",
    "    if int(bitstring2[::-1][i])==1:\n",
    "        cir.x(int2[i])\n",
    "        \n",
    "# calculate carry\n",
    "for i in range(maxbitlen):\n",
    "        cir.ccx(int1[i],int2[i],s[i+1])\n",
    "        \n",
    "# calculate sum\n",
    "for i in range(maxbitlen):\n",
    "    cir.cx(int1[i],int2[i])\n",
    "    \n",
    "# calculate sum + carry\n",
    "for i in range(maxbitlen):\n",
    "    cir.ccx(int2[i],s[i],carry[i+1])\n",
    "    cir.cx(int2[i],s[i])\n",
    "\n",
    "#measurement\n",
    "cir.measure(s,c_s)   \n",
    "cir.measure(carry,c_carry)\n"
   ]
  },
  {
   "cell_type": "markdown",
   "metadata": {},
   "source": [
    "Now, we have built the quantum circuit for computing the addition of two integers. We will run the computation on simulator and then on the real qubits 'ibmq_16_melbourne'.   \n",
    "We will use two following helper functions to help use get the final result in decimal."
   ]
  },
  {
   "cell_type": "code",
   "execution_count": 332,
   "metadata": {},
   "outputs": [],
   "source": [
    "def get_most_prob_bitstring(result_dict):\n",
    "    print(result_dict)\n",
    "    bitstr=(max(result_dict, key = lambda x: result_dict[x]).replace(\" \", \"\"))\n",
    "    #print(\"Highest probability outcome: {}\".format(int(max(result_dict, key = lambda x: result_dict[x]).replace(\" \", \"\"), 2)))\n",
    "    return bitstr\n",
    "    "
   ]
  },
  {
   "cell_type": "code",
   "execution_count": 333,
   "metadata": {},
   "outputs": [],
   "source": [
    "def bin2decimal(bit):\n",
    "    l=len(bit)\n",
    "    s=bit[:l//2]\n",
    "    carry=bit[l//2:]\n",
    "    ans=0\n",
    "    for i in range(l//2):\n",
    "        ans+=int(s[::-1][i])*2**i\n",
    "        ans+=int(carry[::-1][i])*2**i\n",
    "    return ans"
   ]
  },
  {
   "cell_type": "code",
   "execution_count": 339,
   "metadata": {},
   "outputs": [],
   "source": [
    "job = execute(cir, backend = Aer.get_backend('qasm_simulator'), shots=16)"
   ]
  },
  {
   "cell_type": "code",
   "execution_count": 340,
   "metadata": {},
   "outputs": [
    {
     "data": {
      "application/vnd.jupyter.widget-view+json": {
       "model_id": "396bb3e8face4c81a68f614f5e1bd0c1",
       "version_major": 2,
       "version_minor": 0
      },
      "text/plain": [
       "HTML(value=\"<p style='font-size:16px;'>Job Status: job has successfully run </p>\")"
      ]
     },
     "metadata": {},
     "output_type": "display_data"
    }
   ],
   "source": [
    "job_monitor(job)"
   ]
  },
  {
   "cell_type": "code",
   "execution_count": 343,
   "metadata": {},
   "outputs": [
    {
     "name": "stdout",
     "output_type": "stream",
     "text": [
      "{'101 000': 16}\n",
      "Quantum computation of addition: 2 + 3 = 5\n"
     ]
    }
   ],
   "source": [
    "result=job.result()\n",
    "bit=get_most_prob_bitstring(result.get_counts())\n",
    "ans=bin2decimal(bit)\n",
    "print('Quantum computation of addition: {} + {} = {}'.format(input1, input2, ans))"
   ]
  },
  {
   "cell_type": "code",
   "execution_count": 345,
   "metadata": {},
   "outputs": [
    {
     "data": {
      "image/png": "[encoded data removed]",
      "text/plain": [
       "<Figure size 504x360 with 1 Axes>"
      ]
     },
     "execution_count": 345,
     "metadata": {},
     "output_type": "execute_result"
    }
   ],
   "source": [
    "plot_histogram(result.get_counts())"
   ]
  },
  {
   "cell_type": "code",
   "execution_count": 329,
   "metadata": {},
   "outputs": [],
   "source": [
    "\n",
    "job_q = execute(cir, backend=IBMQ.get_backend('ibmq_16_melbourne'), shots=1024)"
   ]
  },
  {
   "cell_type": "code",
   "execution_count": 330,
   "metadata": {},
   "outputs": [
    {
     "data": {
      "application/vnd.jupyter.widget-view+json": {
       "model_id": "40fa98d562304b65ac6f87667020c527",
       "version_major": 2,
       "version_minor": 0
      },
      "text/plain": [
       "HTML(value=\"<p style='font-size:16px;'>Job Status: job is being initialized </p>\")"
      ]
     },
     "metadata": {},
     "output_type": "display_data"
    }
   ],
   "source": [
    "job_monitor(job_q)"
   ]
  },
  {
   "cell_type": "code",
   "execution_count": 335,
   "metadata": {},
   "outputs": [],
   "source": [
    "result_q = job_q.result()"
   ]
  },
  {
   "cell_type": "code",
   "execution_count": 347,
   "metadata": {},
   "outputs": [
    {
     "data": {
      "image/png": "[encoded data removed]",
      "text/plain": [
       "<Figure size 1440x720 with 1 Axes>"
      ]
     },
     "execution_count": 347,
     "metadata": {},
     "output_type": "execute_result"
    }
   ],
   "source": [
    "\n",
    "plot_histogram(result_q.get_counts(), figsize=(20,10))"
   ]
  },
  {
   "cell_type": "code",
   "execution_count": 338,
   "metadata": {},
   "outputs": [
    {
     "name": "stdout",
     "output_type": "stream",
     "text": [
      "{'110 110': 20, '001 110': 16, '000 010': 18, '110 100': 26, '010 000': 33, '101 111': 11, '010 111': 23, '010 001': 17, '011 000': 17, '101 011': 8, '101 110': 8, '101 001': 11, '000 001': 15, '001 100': 14, '000 011': 28, '010 110': 20, '000 111': 17, '011 100': 15, '111 011': 6, '100 111': 13, '100 000': 24, '111 101': 11, '110 101': 16, '001 111': 9, '100 010': 19, '011 111': 10, '101 101': 6, '100 101': 22, '111 000': 10, '000 100': 23, '110 001': 15, '100 011': 17, '110 000': 26, '101 010': 11, '010 100': 22, '010 011': 22, '100 110': 11, '011 011': 14, '011 101': 10, '010 101': 28, '110 010': 15, '100 100': 29, '011 001': 14, '000 000': 27, '000 110': 16, '111 100': 15, '001 001': 11, '101 000': 21, '100 001': 17, '001 011': 4, '111 010': 9, '001 000': 25, '001 010': 20, '011 010': 13, '010 010': 18, '111 001': 6, '000 101': 22, '101 100': 17, '111 110': 9, '110 011': 13, '110 111': 11, '011 110': 16, '001 101': 9, '111 111': 5}\n",
      "Quantum computation of addition: 2 + 3 = 2\n"
     ]
    }
   ],
   "source": [
    "bit=get_most_prob_bitstring(result_q.get_counts())\n",
    "ans=bin2decimal(bit)\n",
    "print('Quantum computation of addition: {} + {} = {}'.format(input1, input2, ans))"
   ]
  },
  {
   "cell_type": "markdown",
   "metadata": {},
   "source": [
    "## Remarks:   \n",
    "Actually, the most efficient quantum adder would be to utilize the quantum Fourier transform in which the addition is performed in the phase. I will show the algorithm for arithmetic after introducing the quantum Fourier transform. This is still a nice warm-up project for getting familiar with quantum arithmetic.   \n",
    "The control and reduction of error in real qubits will be discussed in the latter parts."
   ]
  },
  {
   "cell_type": "code",
   "execution_count": null,
   "metadata": {},
   "outputs": [],
   "source": []
  }
 ],
 "metadata": {
  "kernelspec": {
   "display_name": "Python 3",
   "language": "python",
   "name": "python3"
  },
  "language_info": {
   "codemirror_mode": {
    "name": "ipython",
    "version": 3
   },
   "file_extension": ".py",
   "mimetype": "text/x-python",
   "name": "python",
   "nbconvert_exporter": "python",
   "pygments_lexer": "ipython3",
   "version": "3.7.3"
  }
 },
 "nbformat": 4,
 "nbformat_minor": 2
}
