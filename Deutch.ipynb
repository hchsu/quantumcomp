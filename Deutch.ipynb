{
 "cells": [
  {
   "cell_type": "markdown",
   "metadata": {},
   "source": [
    "# In this notebook, I will introduce the concept and the implementation of Deutsch algorithm. It is an example to illustrate the quantum advantage in parallelism over the classical algorithm.\n"
   ]
  },
  {
   "cell_type": "code",
   "execution_count": 3,
   "metadata": {},
   "outputs": [],
   "source": [
    "import qiskit\n",
    "from qiskit import QuantumRegister, ClassicalRegister, QuantumCircuit, Aer, execute #(using BasicAer if Aer has import problem)\n",
    "from qiskit.tools.monitor import job_monitor, backend_monitor, backend_overview\n",
    "from qiskit.tools.visualization import plot_histogram\n",
    "from qiskit import IBMQ\n"
   ]
  },
  {
   "cell_type": "code",
   "execution_count": 4,
   "metadata": {},
   "outputs": [],
   "source": [
    "import numpy as np\n",
    "from time import time\n",
    "import random"
   ]
  },
  {
   "cell_type": "markdown",
   "metadata": {},
   "source": [
    "## Problem Description\n",
    "Given a black box (or equivalently called oracle), there are only two types of operation. The input is either $0$ or $1$, as well as the output. There are two types of operations in the black box, namely constant and balanced. What is the minimum number of shots for one to decode the black box?\n",
    "In this problem, we want to know whether the operation is :    \n",
    "1) Constant: the output is always $0$ or $1$, i.e. $f(0)\\rightarrow 0, f(1) \\rightarrow 1$ or $f(0)\\rightarrow 1, f(1) \\rightarrow 1$.     \n",
    "2) Balanced: $f(0) \\rightarrow 1, f(1) \\rightarrow 0$,     \n",
    "where $f$ is the operation in the black box. \n",
    "\n",
    "Classically, we need at least two queries to determine which operations it is. For example, given $f(0) \\rightarrow 1$, one can not determine whether it's constant or balanced. One needs a second query, $f(1)$ for the final determination. \n",
    "\n",
    "In the Quantum world, we can utilize the superposition principle to do just one query and determine the oracle. In the following, I will show how this is done."
   ]
  },
  {
   "cell_type": "markdown",
   "metadata": {},
   "source": [
    "## The quantum oracle is based on two qubit operation.   \n",
    "\n",
    "Because the operators in a quantum system must be unitary, we can not directly apply classical oracle operation to quantum systems. Instead, we will use $| q_1, q_2\\rangle  \\rightarrow |q_1, q_2 \\bigoplus f(q_1) \\rangle$, where $\\bigoplus$ is addition modulo 2 and $f$ is either the balanced or the constant operation as descrived above. We first take a look at some resultant states of the qubit after some possible operations. To do that, we will need a method to determine the wave function. Because wave function is not a measurable quantity, we need to do a \"translation\" to convert the wave function to some measurable quantities that we can observe."
   ]
  },
  {
   "cell_type": "markdown",
   "metadata": {},
   "source": [
    "## Phase Kickback\n",
    "We will introduce the ancilla (work) bit that helps to solve for the oracle.  \n",
    "Instead of changing the qubit state, we will use phase kickback such that only the phase of the resultant wave function is changed, while the ancilla bit is unchanged. By applying Hadamard gate, we show that the final qubit state is 0 if the function is constant, while 1 if the function is balanced."
   ]
  },
  {
   "cell_type": "markdown",
   "metadata": {},
   "source": [
    "## How to read out the wave function   \n",
    "The state of a qubit is described by its wave function. The absolute square of the wave function gives the probability of the qubit being in the computational basis state. In quamtum circuit, the measurement only gives the probability. We can use the Aer.get_backend('statevector_simulator') to get the wave function. Below shows an example by creating a superposition  $| 0\\rangle - |1\\rangle.$ In qiskit, the wave function is written in the basis of $(1,0)$, and $(0,1).$, like spin up and spin down. However, on real qubit, it is not possible to read out the statevector which violates the principle of quantum mechanics."
   ]
  },
  {
   "cell_type": "code",
   "execution_count": 12,
   "metadata": {},
   "outputs": [
    {
     "data": {
      "text/plain": [
       "array([ 0.70710678+0.j, -0.70710678+0.j])"
      ]
     },
     "execution_count": 12,
     "metadata": {},
     "output_type": "execute_result"
    }
   ],
   "source": [
    "q=QuantumRegister(1)\n",
    "cir=QuantumCircuit(q)\n",
    "cir.x(q[0])\n",
    "cir.h(q[0])\n",
    "backend = Aer.get_backend('statevector_simulator')\n",
    "result = qiskit.execute(cir, backend=backend).result()\n",
    "result.get_statevector()"
   ]
  },
  {
   "cell_type": "markdown",
   "metadata": {},
   "source": [
    "Below is another example of obtaining the wave function of two qubits. The product state after gate operations is $\\frac{1}{({2})}(1, -1)_1^T \\bigotimes  (1,1)_0^T = \\frac{1}{({2})} (1,1,-1,-1)^T$. (Note that in qiskit, the first qubits goes to the RHS.)"
   ]
  },
  {
   "cell_type": "code",
   "execution_count": 14,
   "metadata": {},
   "outputs": [
    {
     "data": {
      "text/plain": [
       "array([ 0.5+0.j,  0.5+0.j, -0.5+0.j, -0.5+0.j])"
      ]
     },
     "execution_count": 14,
     "metadata": {},
     "output_type": "execute_result"
    }
   ],
   "source": [
    "q=QuantumRegister(2)\n",
    "cir=QuantumCircuit(q)\n",
    "cir.h(q[0])\n",
    "cir.x(q[1])\n",
    "cir.h(q[1])\n",
    "backend = Aer.get_backend('statevector_simulator')\n",
    "result = qiskit.execute(cir, backend=backend).result()\n",
    "result.get_statevector()"
   ]
  },
  {
   "cell_type": "markdown",
   "metadata": {},
   "source": [
    "### The oracle function for two qubits:\n",
    "To build the oracle, we first write down the matrix representation of the oracle operations in the two-bit basis, i.e. $|00\\rangle,|01\\rangle. |10\\rangle, |11\\rangle$. The derivation is straightforward can can be referenced in p. 57-59 in 1903.04359."
   ]
  },
  {
   "cell_type": "code",
   "execution_count": 18,
   "metadata": {},
   "outputs": [],
   "source": [
    "def oracle_2bits(randum, cir):\n",
    "    # case1: f(0,1) -> 0, constant\n",
    "    if randnum%4==0:\n",
    "        cir.iden(q)\n",
    "    #case 2: f(0,1) -> (0,1), balanced\n",
    "    if randnum%4==1:\n",
    "        cir.cx(q[0],q[1])\n",
    "    #case3: f(0,1) -> 1, constant\n",
    "    if randnum%4==2:\n",
    "        cir.x(q[1])\n",
    "    #case4: f(0,1) -> (1,0), balanced\n",
    "    if randnum%4==3:\n",
    "        # reverse cnot\n",
    "        cir.x(q[0])\n",
    "        cir.cx(q[0],q[1])\n",
    "        # put qubit 0 back to its initial state\n",
    "        cir.x(q[0]) \n",
    "    return cir"
   ]
  },
  {
   "cell_type": "markdown",
   "metadata": {},
   "source": [
    "### The query function:"
   ]
  },
  {
   "cell_type": "code",
   "execution_count": 62,
   "metadata": {},
   "outputs": [
    {
     "data": {
      "text/plain": [
       "<qiskit.circuit.instructionset.InstructionSet at 0x122d8cd30>"
      ]
     },
     "execution_count": 62,
     "metadata": {},
     "output_type": "execute_result"
    }
   ],
   "source": [
    "q=QuantumRegister(2,'q')\n",
    "c=ClassicalRegister(2,'c')\n",
    "cir=QuantumCircuit(q,c)\n",
    "# Preparation of the state\n",
    "cir.h(q[0])\n",
    "cir.x(q[1])\n",
    "cir.h(q[1])\n",
    "\n",
    "# call oracle\n",
    "#random.seed(6)\n",
    "randnum=random.randint(0,100)\n",
    "cir=oracle_2bits(randnum,cir)\n",
    "# trick: turn q0 back to 0 or 1 state \\\n",
    "# turn q1 to its beginning state\n",
    "cir.h(q[0])\n",
    "cir.h(q[1])\n",
    "# apply measurement\n",
    "cir.measure(q,c)\n"
   ]
  },
  {
   "cell_type": "code",
   "execution_count": 63,
   "metadata": {},
   "outputs": [
    {
     "data": {
      "image/png": "[encoded data removed]",
      "text/plain": [
       "<Figure size 662.2x258.86 with 1 Axes>"
      ]
     },
     "execution_count": 63,
     "metadata": {},
     "output_type": "execute_result"
    }
   ],
   "source": [
    "# Let's take a look at the circuit that I just created. \n",
    "cir.draw(output='mpl')"
   ]
  },
  {
   "cell_type": "code",
   "execution_count": 64,
   "metadata": {},
   "outputs": [
    {
     "name": "stdout",
     "output_type": "stream",
     "text": [
      "{'11': 1024}\n",
      "The state of the first qubit, i.e. the RHS bit is 1.\n",
      "The randnum is 93, mod 4 =1. If mod 4 ==0 or 2, the oracle is constant, if mod 4== 1 or 3, the oracle is balanced.\n",
      "Given the randum, the oracle is balanced\n",
      "The query tells us that the blackbox is balanced.\n"
     ]
    }
   ],
   "source": [
    "result=qiskit.execute(cir, Aer.get_backend('qasm_simulator'), shots=1024).result()\n",
    "print(result.get_counts())\n",
    "resultstr=list(result.get_counts().keys())\n",
    "print(\"The state of the first qubit, i.e. the RHS bit is {}.\".format(resultstr[0][-1]))\n",
    "# if c[0] is 0, that means the oracle is constant, i.e. f(0)=f(1)\n",
    "# if c[0] is 1, that means the oracle is balanced, i.e. f(0) not equal to f(1)\n",
    "print(\"The randnum is {}, mod 4 ={}. If mod 4 ==0 or 2, the oracle is constant, if mod 4== 1 or 3, the oracle is balanced.\".format(randnum, randnum%4))\n",
    "if randnum%4==0 or randnum %4 ==2:\n",
    "    print('Given the randum, the oracle is constant')\n",
    "if randnum%4==1 or randnum %4 ==3:\n",
    "    print('Given the randum, the oracle is balanced')\n",
    "if list(result.get_counts().keys())[0] =='11':\n",
    "    print('The query tells us that the blackbox is balanced.')\n",
    "if list(result.get_counts().keys())[0]=='10':\n",
    "    print('The query tells us that the balckbox is constant.')"
   ]
  },
  {
   "cell_type": "markdown",
   "metadata": {},
   "source": [
    "## Discussion\n",
    "Voila! The blackbox is solved in just ONE query. This is because we use the superposition of the computational basis. Despite its simplicity, this example shows the advantage of using the principle quantum mechanics in computation.   "
   ]
  },
  {
   "cell_type": "code",
   "execution_count": null,
   "metadata": {},
   "outputs": [],
   "source": []
  }
 ],
 "metadata": {
  "kernelspec": {
   "display_name": "Python 3",
   "language": "python",
   "name": "python3"
  },
  "language_info": {
   "codemirror_mode": {
    "name": "ipython",
    "version": 3
   },
   "file_extension": ".py",
   "mimetype": "text/x-python",
   "name": "python",
   "nbconvert_exporter": "python",
   "pygments_lexer": "ipython3",
   "version": "3.7.3"
  }
 },
 "nbformat": 4,
 "nbformat_minor": 2
}
