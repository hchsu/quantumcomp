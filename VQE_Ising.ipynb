{
 "cells": [
  {
   "cell_type": "markdown",
   "metadata": {},
   "source": [
    "# This notebook presents the computation of ground state energy of the transverse Ising model using Variational Quantum Eigensolver (VQE) provided by qiskit.Aqua. This example is inspired by the article arXiv:1804.03719.\n",
    "\n",
    "## In this example, I will compute the ground state energy and magnetization of the Ising model using VQE with two trial wave functions- product state, entangled state. The intermediate optimization steps will be shown. I will also compute direct diagonalization of the Hamiltonian and compare the results of these three computations.  \n",
    "## For running VQE, we need to assign input Hamiltonian, initial wave function, optimizer. In the following, you shall see how to use VQE. Let's get our hands dirty with qiskit."
   ]
  },
  {
   "cell_type": "code",
   "execution_count": 1,
   "metadata": {},
   "outputs": [],
   "source": [
    "import qiskit\n",
    "from qiskit import QuantumRegister, ClassicalRegister, QuantumCircuit, Aer, execute\n",
    "from qiskit.tools.monitor import job_monitor, backend_monitor, backend_overview\n",
    "from qiskit.tools.visualization import plot_histogram\n",
    "from qiskit import BasicAer\n",
    "from qiskit.aqua import Operator, run_algorithm, QuantumInstance, aqua_globals\n",
    "from qiskit.aqua.input import EnergyInput\n",
    "from qiskit.aqua.components.variational_forms import RY, RYRZ\n",
    "from qiskit.aqua.components.optimizers import L_BFGS_B, COBYLA, AQGD, NELDER_MEAD\n",
    "from qiskit.aqua.components.initial_states import Zero\n",
    "from qiskit.aqua.algorithms import VQE\n",
    "from qiskit.quantum_info import Pauli\n",
    "from matplotlib import pyplot as plt\n",
    "import os\n",
    "import numpy as np"
   ]
  },
  {
   "cell_type": "markdown",
   "metadata": {},
   "source": [
    "The input of VQE includes: initial wave function, depth, EnergyInput.\n",
    "The initial wave function is the variational form constructed from a quantum circuit and computed by the RY class.\n",
    "Depth is the number of rotation gates when preparing the initial wave function in RY (qiskit-aqua/ry.py).\n",
    "EnergyInput is the Hamiltonian of the system. Below shows an example of constructing the initial wave function by calling RY. \n"
   ]
  },
  {
   "cell_type": "code",
   "execution_count": 2,
   "metadata": {},
   "outputs": [
    {
     "data": {
      "image/png": "[encoded data removed]",
      "text/plain": [
       "<Figure size 361.2x258.86 with 1 Axes>"
      ]
     },
     "execution_count": 2,
     "metadata": {},
     "output_type": "execute_result"
    }
   ],
   "source": [
    "# an example of preparing the initial state for variational method\n",
    "init_state = Zero(4)\n",
    "var_form = RY(4, 0, initial_state=init_state)\n",
    "cir=var_form.construct_circuit([0,1,1,1])\n",
    "cir.draw(output='mpl')"
   ]
  },
  {
   "cell_type": "markdown",
   "metadata": {},
   "source": [
    "### The following I define the Hatmiltonian and the utility functions. The Hamiltonian is a one dimensional transverse Ising model with periodic boundary condition.\n",
    "$H=g\\sum_{\\langle i,j\\rangle}  \\sigma_z^i\\sigma_z^j-h\\sum_i\\sigma^i_x$, \n",
    "where $i, j$ are the site index ,  $< >$ denotes the nearser neighbor. "
   ]
  },
  {
   "cell_type": "code",
   "execution_count": 3,
   "metadata": {},
   "outputs": [],
   "source": [
    "# construct Ising model as EnergyInput for VQE\n",
    "# reference: 1804.03719 sect. XVII\n",
    "\n",
    "def contruct_hamiltonian_dict(g=-1, h=1):\n",
    "     # g the neighboring coupling constant\n",
    "    # h the magnetization constant\n",
    "    # one can convert the label to array by Pauli.to_matrix(Pauli.from_label('XI'))\n",
    "    ising_dict = {\n",
    "                'paulis': [{\"coeff\": {\"imag\": 0.0, \"real\": g}, \"label\": \"ZZII\"},\n",
    "                           {\"coeff\": {\"imag\": 0.0, \"real\": g}, \"label\": \"IZZI\"},\n",
    "                           {\"coeff\": {\"imag\": 0.0, \"real\": g}, \"label\": \"IIZZ\"},\n",
    "                           {\"coeff\": {\"imag\": 0.0, \"real\": g}, \"label\": \"ZIIZ\"}, # when periodic B.C.\n",
    "                           {\"coeff\": {\"imag\": 0.0, \"real\": -1*h}, \"label\": \"XIII\"},\n",
    "                           {\"coeff\": {\"imag\": 0.0, \"real\": -1*h}, \"label\": \"IXII\"},\n",
    "                           {\"coeff\": {\"imag\": 0.0, \"real\": -1*h}, \"label\": \"IIXI\"},\n",
    "                           {\"coeff\": {\"imag\": 0.0, \"real\": -1*h}, \"label\": \"IIIX\"}\n",
    "                           ]\n",
    "            }\n",
    "    return ising_dict"
   ]
  },
  {
   "cell_type": "code",
   "execution_count": 4,
   "metadata": {},
   "outputs": [],
   "source": [
    "# This is a utility function to help us record the intermediate results\n",
    "def print_intermediate_state(eval_count, parameters, mean, std):\n",
    "    fn='intermediate.txt'\n",
    "    with open(fn, 'a') as f:\n",
    "        content = \"{},{:.5f},{:.5f}\".format(eval_count, mean, std)\n",
    "        print(content, file=f, flush=True)\n",
    "    #print('count={}, parameters={}, mean={}, std={}'.format(eval_count, parameters, mean, std))"
   ]
  },
  {
   "cell_type": "code",
   "execution_count": 20,
   "metadata": {},
   "outputs": [],
   "source": [
    "def prepare_vqe(ising_dict, depth):\n",
    "    backend = BasicAer.get_backend('statevector_simulator')\n",
    "    optimizer = COBYLA()#L_BFGS_B()\n",
    "    qubit_op = Operator.load_from_dict(ising_dict)\n",
    "    algo_input=EnergyInput(qubit_op)\n",
    "    num_qubits = algo_input.qubit_op.num_qubits\n",
    "    init_state = Zero(num_qubits)\n",
    "    var_form = RY(num_qubits, depth, initial_state=init_state) # depth>0, use default entanglement\n",
    "    fn='intermediate.txt'\n",
    "    if os.path.isfile(fn):\n",
    "        os.remove(fn)\n",
    "    algo = VQE(algo_input.qubit_op, var_form, optimizer, 'paulis', max_evals_grouped=1, callback=print_intermediate_state)\n",
    "    quantum_instance = QuantumInstance(backend,shots=1024)\n",
    "    return algo, quantum_instance"
   ]
  },
  {
   "cell_type": "code",
   "execution_count": 12,
   "metadata": {},
   "outputs": [],
   "source": [
    "# this is to calculate the expectation value of an operator given the ground state eigenvector\n",
    "def calc_expectation(min_vector,opt):\n",
    "    right_prod=np.dot(opt, min_vector)\n",
    "    final=np.dot(np.transpose(min_vector.conjugate()), right_prod)\n",
    "    return final\n",
    "    "
   ]
  },
  {
   "cell_type": "code",
   "execution_count": 13,
   "metadata": {},
   "outputs": [],
   "source": [
    "# this is a utility function for creating 2 by 2 pauli_array\n",
    "def pauli_array():\n",
    "    # define Pauli matrices\n",
    "    sx=np.array([[0,1],[1,0]])\n",
    "    sy=np.array([[0,-1j],[1j,0]])\n",
    "    sz=np.array([[1,0],[0,-1]])\n",
    "    identity=np.array([[1,0],[0,1]])\n",
    "    return sx, sy, sz, identity"
   ]
  },
  {
   "cell_type": "code",
   "execution_count": 14,
   "metadata": {},
   "outputs": [],
   "source": [
    "# define Pauli matrices for the four qubit system for the exact diagonalization\n",
    "sx, sy, sz, identity=pauli_array()\n",
    "\n",
    "\n",
    "# tensor product \n",
    "XI=np.kron(sx,identity)\n",
    "YI=np.kron(sy, identity)\n",
    "ZI=np.kron(sz, identity)\n",
    "IX=np.kron(identity,sx)\n",
    "IY=np.kron(identity, sy)\n",
    "IZ=np.kron( identity,sz)\n",
    "ZZ=np.kron(sz,sz)\n",
    "II=np.kron(np.identity(2), np.identity(2))\n",
    "ZZII=np.kron(ZZ,II)\n",
    "IZZI=np.kron(np.identity(2), np.kron(ZZ,np.identity(2)))\n",
    "IIZZ=np.kron(II,ZZ)\n",
    "ZIIZ=np.kron(ZI,IZ) # add this term when periodic B.C.\n",
    "XIII=np.kron(XI,II)\n",
    "IXII=np.kron(IX,II)\n",
    "IIXI=np.kron(II,XI)\n",
    "IIIX=np.kron(II,IX)\n",
    "ZIII=np.kron(ZI,II)\n",
    "IZII=np.kron(IZ,II)\n",
    "IIZI=np.kron(II,ZI)\n",
    "IIIZ=np.kron(II,IZ)"
   ]
  },
  {
   "cell_type": "markdown",
   "metadata": {},
   "source": [
    "### After defining all the functions, we can now run vqe and observe the optimization steps."
   ]
  },
  {
   "cell_type": "code",
   "execution_count": 21,
   "metadata": {},
   "outputs": [],
   "source": [
    "# one can try some limiting cases: g=0 and h=1; g=1 and h=0\n",
    "sx, sy, sz, identity=pauli_array()\n",
    "mx_chain=XIII+IXII+IIXI+IIIX\n",
    "#mx_chain_=np.kron(np.kron(sx,sx), np.kron(sx,sx))\n",
    "mz_chain=ZIII+IZII+IIZI+IIIZ\n",
    "#mz_chain_=np.kron(np.kron(sz,sz), np.kron(sz,sz))\n",
    "ising_dict=contruct_hamiltonian_dict(g=-1,h=1)\n",
    "algo, quantum_instance=prepare_vqe(ising_dict,depth=1)\n",
    "result=algo.run(quantum_instance)\n",
    "expect_mx_chain=calc_expectation(result['min_vector'], mx_chain)\n",
    "expect_mz_chain=calc_expectation(result['min_vector'], mz_chain)\n"
   ]
  },
  {
   "cell_type": "code",
   "execution_count": 22,
   "metadata": {},
   "outputs": [
    {
     "name": "stdout",
     "output_type": "stream",
     "text": [
      "==================optimization output========================\n",
      "The ground state energy is -5.0281388477067726\n",
      "The mean spin along x of the system is (0.5263706989210727+0j)\n",
      "The mean spin along z of the system is (-0.8431057227226636+0j)\n",
      "Total evaluation count is 1000.\n",
      "The amount of time is 16.564425230026245 seconds.\n"
     ]
    }
   ],
   "source": [
    "# print out the optimization log\n",
    "print('==================optimization output========================')\n",
    "print('The ground state energy is {}'.format(result['energy']))\n",
    "print('The mean spin along x of the system is {}'.format(expect_mx_chain/4))\n",
    "print('The mean spin along z of the system is {}'.format(expect_mz_chain/4))\n",
    "print('Total evaluation count is {}.'.format(result['eval_count']))\n",
    "print('The amount of time is {} seconds.'.format(result['eval_time']))"
   ]
  },
  {
   "cell_type": "code",
   "execution_count": 23,
   "metadata": {},
   "outputs": [
    {
     "data": {
      "image/png": "[encoded data removed]",
      "text/plain": [
       "<Figure size 432x288 with 1 Axes>"
      ]
     },
     "metadata": {
      "needs_background": "light"
     },
     "output_type": "display_data"
    }
   ],
   "source": [
    "# Plot out the intermediate steps\n",
    "step=[]\n",
    "energy=[]\n",
    "filename='intermediate.txt'\n",
    "with open(filename,'r') as f:\n",
    "    steps=f.readlines()  \n",
    "    for row in steps:\n",
    "        step.append(float(row.strip().split(',')[0])) \n",
    "        energy.append(float(row.strip().split(',')[-2]))\n",
    "plt.figure()\n",
    "plt.ylim([energy[-1]-0.5, energy[0]+0.5])\n",
    "plt.plot(step,energy)\n",
    "plt.xlabel('optimization step')\n",
    "plt.ylabel('E')\n",
    "plt.show()"
   ]
  },
  {
   "cell_type": "markdown",
   "metadata": {},
   "source": [
    "## Are the VQE's results correct? Let's comare the results with exact diagonalization. In the following, I will vary the value of h and compute the corresponding ground state energy and the magnetization along x."
   ]
  },
  {
   "cell_type": "code",
   "execution_count": 24,
   "metadata": {},
   "outputs": [],
   "source": [
    "# compute VQE ground state energy by giving product state and entanglend state, respectively, as trial wave function\n",
    "q_prod_mine=[]\n",
    "q_ent_mine=[]\n",
    "q_ent_mx=[]\n",
    "q_prod_mx=[]\n",
    "g=-1\n",
    "h_array=np.linspace(0,3,16)\n",
    "for h in h_array:\n",
    "    ising_dict=contruct_hamiltonian_dict(g=g,h=h)\n",
    "    algo, quantum_instance=prepare_vqe(ising_dict=ising_dict, depth=0)\n",
    "    result=algo.run(quantum_instance)\n",
    "    q_prod_mine.append(result['energy'])\n",
    "    q_prod_mx.append(calc_expectation(result['min_vector'], mx_chain))\n",
    "    \n",
    "    algo, quantum_instance=prepare_vqe(ising_dict=ising_dict, depth=3)\n",
    "    result=algo.run(quantum_instance)\n",
    "    q_ent_mine.append(result['energy'])\n",
    "    q_ent_mx.append(calc_expectation(result['min_vector'], mx_chain))"
   ]
  },
  {
   "cell_type": "code",
   "execution_count": 25,
   "metadata": {},
   "outputs": [],
   "source": [
    "# do direct diagonalization of the Hamiltonian to get exact ground state energy\n",
    "mine=[]\n",
    "mx=[]\n",
    "for h in h_array:\n",
    "    H=g*(ZZII+IZZI+IIZZ+ZIIZ)-h*(XIII+IXII+IIXI+IIIX)\n",
    "    e=min(np.linalg.eigvals(H))\n",
    "    w,v=np.linalg.eig(H)\n",
    "    e=min(w)\n",
    "    idx=np.argmin(w)\n",
    "    min_vector=v[:,idx]\n",
    "    mine.append(e)\n",
    "    mx.append(calc_expectation(min_vector, mx_chain))\n"
   ]
  },
  {
   "cell_type": "code",
   "execution_count": 26,
   "metadata": {},
   "outputs": [
    {
     "name": "stderr",
     "output_type": "stream",
     "text": [
      "/anaconda3/envs/qiskitenv/lib/python3.7/site-packages/numpy/core/numeric.py:591: ComplexWarning: Casting complex values to real discards the imaginary part\n",
      "  return array(a, dtype, copy=False, order=order, subok=True)\n"
     ]
    },
    {
     "data": {
      "text/plain": [
       "<matplotlib.legend.Legend at 0x124ef5cc0>"
      ]
     },
     "execution_count": 26,
     "metadata": {},
     "output_type": "execute_result"
    },
    {
     "data": {
      "image/png": "[encoded data removed]",
      "text/plain": [
       "<Figure size 432x288 with 1 Axes>"
      ]
     },
     "metadata": {
      "needs_background": "light"
     },
     "output_type": "display_data"
    },
    {
     "data": {
      "image/png": "[encoded data removed]",
      "text/plain": [
       "<Figure size 432x288 with 1 Axes>"
      ]
     },
     "metadata": {
      "needs_background": "light"
     },
     "output_type": "display_data"
    }
   ],
   "source": [
    "# Finally, let's put all results together\n",
    "mine_=np.array(mine)/4\n",
    "q_ent_mine_=np.array(q_ent_mine)/4\n",
    "q_prod_mine_=np.array(q_prod_mine)/4\n",
    "plt.figure(1)\n",
    "plt.title('energy per qubit')\n",
    "plt.scatter(h_array, mine_, label='exact')\n",
    "plt.scatter(h_array, q_ent_mine_, label='quantum-entanglement state', marker='D')\n",
    "plt.scatter(h_array,q_prod_mine_, label='quantum-product state', marker='x')\n",
    "plt.xlabel('h')\n",
    "plt.ylabel('E/N')\n",
    "plt.legend()\n",
    "plt.figure(2)\n",
    "plt.title('mean m_x')\n",
    "plt.scatter(h_array, np.array(mx)/4, label='exact')\n",
    "plt.scatter(h_array, np.array(q_ent_mx)/4, label='quantum-entangle', marker='D')\n",
    "plt.scatter(h_array, np.array(q_prod_mx)/4, label='quantum-product', marker='x')\n",
    "plt.xlabel('h')\n",
    "plt.ylabel('m_x')\n",
    "plt.legend()"
   ]
  },
  {
   "cell_type": "markdown",
   "metadata": {},
   "source": [
    "### For VQE, the choice of initial wave function is essential and relies on the understanding of the problem. In this example, we show that the results of the entanglement state match with the exact solution, while the results of the product state deviate. "
   ]
  },
  {
   "cell_type": "markdown",
   "metadata": {},
   "source": [
    "## For the future project, what could be investigated:   \n",
    "### long range interaction   \n",
    "### magnetic field (orbital effect)   \n",
    "### first excited state (gap protection of entangled ground state)   "
   ]
  },
  {
   "cell_type": "code",
   "execution_count": null,
   "metadata": {},
   "outputs": [],
   "source": []
  }
 ],
 "metadata": {
  "kernelspec": {
   "display_name": "Python 3",
   "language": "python",
   "name": "python3"
  },
  "language_info": {
   "codemirror_mode": {
    "name": "ipython",
    "version": 3
   },
   "file_extension": ".py",
   "mimetype": "text/x-python",
   "name": "python",
   "nbconvert_exporter": "python",
   "pygments_lexer": "ipython3",
   "version": "3.7.3"
  }
 },
 "nbformat": 4,
 "nbformat_minor": 2
}
