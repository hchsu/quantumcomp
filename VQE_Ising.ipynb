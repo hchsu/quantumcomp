{
 "cells": [
  {
   "cell_type": "markdown",
   "metadata": {},
   "source": [
    "# This notebook presents the computation of ground state energy of the transverse Ising model using VQE provided by qiskit.Aqua. This example is inspired by the article arXiv:1804.03719.\n",
    "## In this example, I will compute the ground state energy of the Ising model using VQE with two trial wave functions- product state, entangled state. I will also compute direct diagonalization of the Hamiltonian. I will compare the results of these three computations.  \n",
    "## For running VQE, we need to assign input Hamiltonian, initial wave function, optimizer. In the following, you shall see how to use VQE. Let's get our hands dirty with qiskit."
   ]
  },
  {
   "cell_type": "code",
   "execution_count": 1,
   "metadata": {},
   "outputs": [],
   "source": [
    "import qiskit\n",
    "from qiskit import QuantumRegister, ClassicalRegister, QuantumCircuit, Aer, execute\n",
    "from qiskit.tools.monitor import job_monitor, backend_monitor, backend_overview\n",
    "from qiskit.tools.visualization import plot_histogram\n",
    "from qiskit import BasicAer\n",
    "from qiskit.aqua import Operator, run_algorithm, QuantumInstance, aqua_globals\n",
    "from qiskit.aqua.input import EnergyInput\n",
    "from qiskit.aqua.components.variational_forms import RY\n",
    "from qiskit.aqua.components.optimizers import L_BFGS_B, COBYLA\n",
    "from qiskit.aqua.components.initial_states import Zero\n",
    "from qiskit.aqua.algorithms import VQE"
   ]
  },
  {
   "cell_type": "code",
   "execution_count": 250,
   "metadata": {},
   "outputs": [
    {
     "data": {
      "text/html": [
       "<pre style=\"word-wrap: normal;white-space: pre;line-height: 15px;\">        ┌───────────┐ ░ \n",
       "q_0: |0>┤ U3(1,0,0) ├─░─\n",
       "        ├───────────┤ ░ \n",
       "q_1: |0>┤ U3(1,0,0) ├─░─\n",
       "        └───────────┘ ░ </pre>"
      ],
      "text/plain": [
       "<qiskit.visualization.text.TextDrawing at 0x12a287c88>"
      ]
     },
     "execution_count": 250,
     "metadata": {},
     "output_type": "execute_result"
    }
   ],
   "source": [
    "# an example of preparing the initial state for variational method\n",
    "init_state = Zero(num_qubits)\n",
    "var_form = RY(2, 0, initial_state=init_state)\n",
    "cir=var_form.construct_circuit([1,1])\n",
    "cir.draw()"
   ]
  },
  {
   "cell_type": "code",
   "execution_count": 254,
   "metadata": {},
   "outputs": [],
   "source": [
    "# construct Ising model as EnergyInput for VQE\n",
    "# reference: 1804.03719 sect. XVII\n",
    "\n",
    "def contruct_hamiltonian_dict(g=-1, h=-1):\n",
    "     # g the neighboring coupling constant\n",
    "    # h the magnetization constant\n",
    "    ising_dict = {\n",
    "                'paulis': [{\"coeff\": {\"imag\": 0.0, \"real\": g}, \"label\": \"ZZII\"},\n",
    "                           {\"coeff\": {\"imag\": 0.0, \"real\": g}, \"label\": \"IZZI\"},\n",
    "                           {\"coeff\": {\"imag\": 0.0, \"real\": g}, \"label\": \"IIZZ\"},\n",
    "                           {\"coeff\": {\"imag\": 0.0, \"real\": g}, \"label\": \"ZIIZ\"}, # when periodic B.C.\n",
    "                           {\"coeff\": {\"imag\": 0.0, \"real\": h}, \"label\": \"XIII\"},\n",
    "                           {\"coeff\": {\"imag\": 0.0, \"real\": h}, \"label\": \"IXII\"},\n",
    "                           {\"coeff\": {\"imag\": 0.0, \"real\": h}, \"label\": \"IIXI\"},\n",
    "                           {\"coeff\": {\"imag\": 0.0, \"real\": h}, \"label\": \"IIIX\"}\n",
    "                           ]\n",
    "            }\n",
    "    return ising_dict"
   ]
  },
  {
   "cell_type": "code",
   "execution_count": 255,
   "metadata": {},
   "outputs": [],
   "source": [
    "def prepare_vqe(depth=3):\n",
    "    backend = BasicAer.get_backend('statevector_simulator')\n",
    "    optimizer = L_BFGS_B()\n",
    "    ising_dict=contruct_hamiltonian_dict(h=h)\n",
    "    qubit_op = Operator.load_from_dict(ising_dict)\n",
    "    algo_input=EnergyInput(qubit_op)\n",
    "    num_qubits = algo_input.qubit_op.num_qubits\n",
    "    init_state = Zero(num_qubits)\n",
    "    var_form = RY(num_qubits, depth, initial_state=init_state) # depth>0, use default entanglement\n",
    "    algo = VQE(algo_input.qubit_op, var_form, optimizer, 'paulis', max_evals_grouped=1)\n",
    "    quantum_instance = QuantumInstance(backend)\n",
    "    return algo, quantum_instance"
   ]
  },
  {
   "cell_type": "code",
   "execution_count": 259,
   "metadata": {},
   "outputs": [],
   "source": [
    "q_prod_mine=[]\n",
    "q_ent_mine=[]\n",
    "for h in np.linspace(0,4,20):\n",
    "    ising_dict=contruct_hamiltonian_dict(h=h)\n",
    "    algo, quantum_instance=prepare_vqe(depth=0)\n",
    "    result=algo.run(quantum_instance)\n",
    "    q_prod_mine.append(result['energy'])\n",
    "    \n",
    "    #algo, quantum_instance=prepare_vqe(depth=3)\n",
    "    #result=algo.run(quantum_instance)\n",
    "    #q_ent_mine.append(result['energy'])"
   ]
  },
  {
   "cell_type": "code",
   "execution_count": 214,
   "metadata": {},
   "outputs": [],
   "source": [
    "# now, let's do exact diagonalization\n",
    "import numpy as np\n",
    "from matplotlib import pyplot as plt\n"
   ]
  },
  {
   "cell_type": "code",
   "execution_count": 176,
   "metadata": {},
   "outputs": [],
   "source": [
    "# define Pauli matrices\n",
    "sx=np.array([[0,1],[1,0]])\n",
    "sy=np.array([[0,-1j],[1j,0]])\n",
    "sz=np.array([[1,0],[0,-1]])\n",
    "identity=np.array([[1,0],[0,1]])\n",
    "\n",
    "# tensor product \n",
    "XI=np.kron(sx,identity)\n",
    "YI=np.kron(sy, identity)\n",
    "ZI=np.kron(sz, identity)\n",
    "IX=np.kron(identity,sx)\n",
    "IY=np.kron(identity, sy)\n",
    "IZ=np.kron( identity,sz)\n",
    "ZZ=np.kron(sz,sz)\n",
    "II=np.kron(np.identity(2), np.identity(2))\n",
    "ZZII=np.kron(ZZ,II)\n",
    "IZZI=np.kron(np.identity(2), np.kron(ZZ,np.identity(2)))\n",
    "IIZZ=np.kron(II,ZZ)\n",
    "ZIIZ=np.kron(ZI,IZ) # add this term when periodic B.C.\n",
    "XIII=np.kron(XI,II)\n",
    "IXII=np.kron(IX,II)\n",
    "IIXI=np.kron(II,XI)\n",
    "IIIX=np.kron(II,IX)"
   ]
  },
  {
   "cell_type": "code",
   "execution_count": 261,
   "metadata": {},
   "outputs": [],
   "source": [
    "# do direct diagonalization of the Hamiltonian to get exact ground state energy\n",
    "mine=[]\n",
    "for h in np.linspace(0,4,20):\n",
    "    H=g*(ZZII+IZZI+IIZZ+ZIIZ)+h*(XIII+IXII+IIXI+IIIX)\n",
    "    e=min(np.linalg.eigvals(H))\n",
    "    mine.append(e)\n"
   ]
  },
  {
   "cell_type": "code",
   "execution_count": 258,
   "metadata": {},
   "outputs": [
    {
     "data": {
      "text/plain": [
       "<matplotlib.legend.Legend at 0x129e040f0>"
      ]
     },
     "execution_count": 258,
     "metadata": {},
     "output_type": "execute_result"
    },
    {
     "data": {
      "image/png": "[encoded data removed]",
      "text/plain": [
       "<Figure size 432x288 with 1 Axes>"
      ]
     },
     "metadata": {
      "needs_background": "light"
     },
     "output_type": "display_data"
    }
   ],
   "source": [
    "# Finally, let's put all results together\n",
    "mine_=np.array(mine)/4\n",
    "q_ent_mine_=np.array(q_ent_mine)/4\n",
    "q_prod_mine_=np.array(q_prod_mine)/4\n",
    "plt.scatter(np.linspace(0,4,20), mine_, label='exact')\n",
    "plt.scatter(np.linspace(0,4,20), q_mine_, label='quantum-entanglement state')\n",
    "plt.scatter(np.linspace(0,4,20),q_prod_mine_, label='quantum-product state')\n",
    "plt.xlabel('h')\n",
    "plt.ylabel('E/N')\n",
    "plt.legend()"
   ]
  },
  {
   "cell_type": "markdown",
   "metadata": {},
   "source": [
    "For VQE, the choice of initial wave function is essential and relies on the understanding of the problem. In this example, we show that the results of the entanglement state match with the exact solution, while the results of the product state deviate. It suggests that four qubits are entangled in the ground state. For further exploration, one can change the types of entanglement and optimizer to see how the results are affectd. "
   ]
  },
  {
   "cell_type": "code",
   "execution_count": null,
   "metadata": {},
   "outputs": [],
   "source": []
  }
 ],
 "metadata": {
  "kernelspec": {
   "display_name": "Python 3",
   "language": "python",
   "name": "python3"
  },
  "language_info": {
   "codemirror_mode": {
    "name": "ipython",
    "version": 3
   },
   "file_extension": ".py",
   "mimetype": "text/x-python",
   "name": "python",
   "nbconvert_exporter": "python",
   "pygments_lexer": "ipython3",
   "version": "3.7.3"
  }
 },
 "nbformat": 4,
 "nbformat_minor": 2
}
