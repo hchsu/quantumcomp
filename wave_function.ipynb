{
 "cells": [
  {
   "cell_type": "markdown",
   "metadata": {},
   "source": [
    "# This notebook shows how to obtain the wave function from a quantum circuit. To do this, the backend \"statevector_simulator\" in qiskit.BasicAer module will be used. "
   ]
  },
  {
   "cell_type": "code",
   "execution_count": 29,
   "metadata": {},
   "outputs": [],
   "source": [
    "import qiskit\n",
    "from qiskit import IBMQ\n",
    "from qiskit import Aer\n",
    "from qiskit import QuantumCircuit, QuantumRegister, ClassicalRegister, execute"
   ]
  },
  {
   "cell_type": "code",
   "execution_count": null,
   "metadata": {},
   "outputs": [],
   "source": [
    "backend=Aer.get_backend('statevector_simulator')"
   ]
  },
  {
   "cell_type": "code",
   "execution_count": 37,
   "metadata": {},
   "outputs": [],
   "source": [
    "# one qubit and make superposition 0-1\n",
    "q=QuantumRegister(1)\n",
    "c=ClassicalRegister(1)\n",
    "circ=QuantumCircuit(q,c)\n",
    "circ.x(q)\n",
    "circ.h(q)\n",
    "job=execute(circ, backend, shots=1024)\n",
    "result=job.result()"
   ]
  },
  {
   "cell_type": "code",
   "execution_count": 39,
   "metadata": {},
   "outputs": [
    {
     "data": {
      "text/plain": [
       "array([ 0.70710678+0.j, -0.70710678+0.j])"
      ]
     },
     "execution_count": 39,
     "metadata": {},
     "output_type": "execute_result"
    }
   ],
   "source": [
    "# get the wave function\n",
    "result.get_statevector()"
   ]
  },
  {
   "cell_type": "code",
   "execution_count": 47,
   "metadata": {},
   "outputs": [],
   "source": [
    "# two qubit and make first 0+1, the second 0-1\n",
    "q2=QuantumRegister(2)\n",
    "circ2=QuantumCircuit(q2)\n",
    "circ2.h(q2[0])\n",
    "circ2.x(q2[1])\n",
    "circ2.h(q2[1])\n",
    "job2=execute(circ2, backend, shots=1024)\n",
    "result2=job2.result()"
   ]
  },
  {
   "cell_type": "code",
   "execution_count": 48,
   "metadata": {},
   "outputs": [
    {
     "data": {
      "text/plain": [
       "array([ 0.5+0.j,  0.5+0.j, -0.5+0.j, -0.5+0.j])"
      ]
     },
     "execution_count": 48,
     "metadata": {},
     "output_type": "execute_result"
    }
   ],
   "source": [
    "result2.get_statevector()"
   ]
  },
  {
   "cell_type": "markdown",
   "metadata": {},
   "source": [
    "Note that the basis vector for circ2 is |00>, |10>, |01>, |11>."
   ]
  },
  {
   "cell_type": "code",
   "execution_count": 43,
   "metadata": {},
   "outputs": [
    {
     "data": {
      "text/html": [
       "<pre style=\"word-wrap: normal;white-space: pre;line-height: 15px;\">         ┌───┐     \n",
       "q5_0: |0>┤ H ├─────\n",
       "         ├───┤┌───┐\n",
       "q5_1: |0>┤ X ├┤ H ├\n",
       "         └───┘└───┘</pre>"
      ],
      "text/plain": [
       "<qiskit.visualization.text.TextDrawing at 0x126c26c88>"
      ]
     },
     "execution_count": 43,
     "metadata": {},
     "output_type": "execute_result"
    }
   ],
   "source": [
    "# circuit visualization\n",
    "circ2.draw()"
   ]
  },
  {
   "cell_type": "code",
   "execution_count": null,
   "metadata": {},
   "outputs": [],
   "source": []
  }
 ],
 "metadata": {
  "kernelspec": {
   "display_name": "Python 3",
   "language": "python",
   "name": "python3"
  },
  "language_info": {
   "codemirror_mode": {
    "name": "ipython",
    "version": 3
   },
   "file_extension": ".py",
   "mimetype": "text/x-python",
   "name": "python",
   "nbconvert_exporter": "python",
   "pygments_lexer": "ipython3",
   "version": "3.7.3"
  }
 },
 "nbformat": 4,
 "nbformat_minor": 2
}
