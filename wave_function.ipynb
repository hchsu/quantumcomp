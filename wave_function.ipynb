{
 "cells": [
  {
   "cell_type": "markdown",
   "metadata": {},
   "source": [
    "# This notebook shows how to obtain the wave function from a quantum circuit. IBM provides a simulator that could output wave function easily, the backend \"statevector_simulator\" in qiskit.Aer module. The example of obtaining the simulated statevector will be shown. However, in real qubits, only the weights of each computational basis can be obtained. This computation will also be shown. Please pay attention to the difference of executing on statevector_simulator and qubits in the following examples."
   ]
  },
  {
   "cell_type": "code",
   "execution_count": 1,
   "metadata": {},
   "outputs": [],
   "source": [
    "import qiskit\n",
    "from qiskit import IBMQ\n",
    "from qiskit import Aer\n",
    "from qiskit import QuantumCircuit, QuantumRegister, ClassicalRegister, execute"
   ]
  },
  {
   "cell_type": "code",
   "execution_count": 67,
   "metadata": {},
   "outputs": [],
   "source": [
    "# define the backends : quantum computer simulator, statevector simulator\n",
    "sim_backend=Aer.get_backend('qasm_simulator')\n",
    "statevectorsim_backend=Aer.get_backend('statevector_simulator')"
   ]
  },
  {
   "cell_type": "code",
   "execution_count": 55,
   "metadata": {},
   "outputs": [
    {
     "name": "stdout",
     "output_type": "stream",
     "text": [
      "[{'token': '9293b5ea7a0029f9141900aa84ad425262f91193abfaae6a41136066fce2a3c3f9981d6933188a79dcc914a7785d620287ffeee20ebc2f01928c789e0b386977', 'url': 'https://api.quantum-computing.ibm.com/api/Hubs/ibm-q/Groups/open/Projects/main'}]\n"
     ]
    }
   ],
   "source": [
    "# define the backends : cloud quantum computer\n",
    "accountinfo=IBMQ.stored_accounts()\n",
    "qbackend=IBMQ.get_backend('ibmqx2')\n",
    "print(accountinfo)"
   ]
  },
  {
   "cell_type": "markdown",
   "metadata": {},
   "source": [
    "## A note for using statevector_simulator as backend:\n",
    "Quote from Qiskit documentation \"Note that if a circuit contains measure or reset the final statevector will be a conditional statevector after simulating wave-function collapse to the outcome of a measure or reset. \" https://qiskit.org/documentation/aer/simulate_statevectors.html\n",
    "The statevector_simulator can not be used simultaneously with the measurement gate. "
   ]
  },
  {
   "cell_type": "markdown",
   "metadata": {},
   "source": [
    "## The first example is a one qubit circuit."
   ]
  },
  {
   "cell_type": "code",
   "execution_count": 80,
   "metadata": {},
   "outputs": [],
   "source": [
    "# build the cirucruit\n",
    "# one qubit and make superposition 0-1\n",
    "q=QuantumRegister(1)\n",
    "c=ClassicalRegister(1)\n",
    "circ=QuantumCircuit(q,c)\n",
    "circ.x(q)\n",
    "circ.h(q)\n",
    "# for running getting statevector from statevector_sim, there can not be measurement gate\n",
    "job_statevector_sim=execute(circ, backend=statevectorsim_backend, shots=1024)\n",
    "result_statevector_sim=job_statevector_sim.result()\n",
    "# Other backends must need measurement gate in order to get the wave function\n",
    "circ.measure(q,c)\n",
    "job_sim=execute(circ,backend=Aer.get_backend('qasm_simulator'), shots=1024)\n",
    "qjob=execute(circ, qbackend, shots=1024)\n",
    "result_sim=job_sim.result()\n",
    "qresult=qjob.result()"
   ]
  },
  {
   "cell_type": "code",
   "execution_count": 84,
   "metadata": {},
   "outputs": [
    {
     "name": "stdout",
     "output_type": "stream",
     "text": [
      "The weights of statevector using statevector_simulator is {'0': 1}\n",
      "The statevector given by statevector_simulator is [ 0.70710678+0.j -0.70710678+0.j]\n",
      "The weights of statevector using qubits is {'1': 483, '0': 541}\n",
      "The weights of statevector using qasm_simulator is {'1': 531, '0': 493}\n"
     ]
    }
   ],
   "source": [
    "# printout the results of the three different backends\n",
    "# get the wave function\n",
    "print('The weights of statevector using statevector_simulator is {}'.format(result_statevector_sim.get_counts()))\n",
    "print('The statevector given by statevector_simulator is {}'.format(result_statevector_sim.get_statevector(circ)))\n",
    "\n",
    "print('The weights of statevector using qubits is {}'.format(qresult.get_counts()))\n",
    "print('The weights of statevector using qasm_simulator is {}'.format(result_sim.get_counts()))"
   ]
  },
  {
   "cell_type": "markdown",
   "metadata": {},
   "source": [
    "## The second example is a two-bit example, no entanglement."
   ]
  },
  {
   "cell_type": "code",
   "execution_count": 104,
   "metadata": {},
   "outputs": [],
   "source": [
    "# two qubit and make first 0+1, the second 0-1\n",
    "q2=QuantumRegister(2)\n",
    "c2=ClassicalRegister(2)\n",
    "circ2=QuantumCircuit(q2,c2)\n",
    "circ2.h(q2[0])\n",
    "circ2.x(q2[1])\n",
    "circ2.h(q2[1])\n",
    "# for running getting statevector from statevector_sim, there can not be measurement gate\n",
    "job_statevector_sim=execute(circ2, backend=statevectorsim_backend, shots=1024)\n",
    "result_statevector_sim=job_statevector_sim.result()\n",
    "circ2.measure(q2,c2)\n",
    "job_sim=execute(circ2,backend=Aer.get_backend('qasm_simulator'), shots=1024)\n",
    "qjob=execute(circ2, qbackend, shots=1024)\n",
    "result_sim=job_sim.result()\n",
    "qresult=qjob.result()"
   ]
  },
  {
   "cell_type": "code",
   "execution_count": 105,
   "metadata": {},
   "outputs": [
    {
     "name": "stdout",
     "output_type": "stream",
     "text": [
      "The weights of statevector using statevector_simulator is {'00': 1}\n",
      "The statevector given by statevector_simulator is [ 0.5+0.j  0.5+0.j -0.5+0.j -0.5+0.j]\n",
      "The weights of statevector using qubits is {'01': 236, '00': 266, '11': 273, '10': 249}\n",
      "The weights of statevector using qasm_simulator is {'01': 273, '00': 254, '11': 242, '10': 255}\n"
     ]
    }
   ],
   "source": [
    "# printout the results of the three different backends\n",
    "# get the wave function\n",
    "print('The weights of statevector using statevector_simulator is {}'.format(result_statevector_sim.get_counts()))\n",
    "print('The statevector given by statevector_simulator is {}'.format(result_statevector_sim.get_statevector()))\n",
    "\n",
    "# Note that the weights do not contain the information of the sign.\n",
    "print('The weights of statevector using qubits is {}'.format(qresult.get_counts()))\n",
    "print('The weights of statevector using qasm_simulator is {}'.format(result_sim.get_counts()))"
   ]
  },
  {
   "cell_type": "markdown",
   "metadata": {},
   "source": []
  }
 ],
 "metadata": {
  "kernelspec": {
   "display_name": "Python 3",
   "language": "python",
   "name": "python3"
  },
  "language_info": {
   "codemirror_mode": {
    "name": "ipython",
    "version": 3
   },
   "file_extension": ".py",
   "mimetype": "text/x-python",
   "name": "python",
   "nbconvert_exporter": "python",
   "pygments_lexer": "ipython3",
   "version": "3.7.3"
  }
 },
 "nbformat": 4,
 "nbformat_minor": 2
}
